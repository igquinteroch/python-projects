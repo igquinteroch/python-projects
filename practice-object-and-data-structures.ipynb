{
 "cells": [
  {
   "cell_type": "markdown",
   "id": "ca2cdc3e",
   "metadata": {},
   "source": [
    "# Python Basics"
   ]
  },
  {
   "cell_type": "markdown",
   "id": "334bb8ff",
   "metadata": {},
   "source": [
    "Expression: It is the most basic kind of programing instruction (2 + 2)."
   ]
  },
  {
   "cell_type": "markdown",
   "id": "2bd4143c",
   "metadata": {},
   "source": [
    "Data type: It is a category for values and every value belongs to exactly one data type."
   ]
  },
  {
   "cell_type": "markdown",
   "id": "dfbc26a2",
   "metadata": {},
   "source": [
    "What would you use to find a number's square root, as well as its square?"
   ]
  },
  {
   "cell_type": "code",
   "execution_count": 3,
   "id": "d1de10f7",
   "metadata": {},
   "outputs": [
    {
     "data": {
      "text/plain": [
       "7.0"
      ]
     },
     "execution_count": 3,
     "metadata": {},
     "output_type": "execute_result"
    }
   ],
   "source": [
    "# Square root\n",
    "49 ** 0.5"
   ]
  },
  {
   "cell_type": "code",
   "execution_count": 4,
   "id": "f143fd9b",
   "metadata": {},
   "outputs": [
    {
     "data": {
      "text/plain": [
       "25"
      ]
     },
     "execution_count": 4,
     "metadata": {},
     "output_type": "execute_result"
    }
   ],
   "source": [
    "# Square\n",
    "5 ** 2"
   ]
  },
  {
   "cell_type": "markdown",
   "id": "9169cf85",
   "metadata": {},
   "source": [
    "## Strings"
   ]
  },
  {
   "cell_type": "markdown",
   "id": "d3b4662f",
   "metadata": {},
   "source": [
    "Given the string \"hello\", give two methods of producing the letter 'o' using indexing"
   ]
  },
  {
   "cell_type": "code",
   "execution_count": 9,
   "id": "708fd160",
   "metadata": {},
   "outputs": [
    {
     "data": {
      "text/plain": [
       "'o'"
      ]
     },
     "execution_count": 9,
     "metadata": {},
     "output_type": "execute_result"
    }
   ],
   "source": [
    "i = \"hello\"\n",
    "\n",
    "# Method 1\n",
    "\n",
    "i[-1]"
   ]
  },
  {
   "cell_type": "code",
   "execution_count": 8,
   "id": "9ea3276e",
   "metadata": {},
   "outputs": [
    {
     "data": {
      "text/plain": [
       "'o'"
      ]
     },
     "execution_count": 8,
     "metadata": {},
     "output_type": "execute_result"
    }
   ],
   "source": [
    "i = \"hello\"\n",
    "\n",
    "# Method 2\n",
    "\n",
    "i[4]"
   ]
  },
  {
   "cell_type": "markdown",
   "id": "aa141a42",
   "metadata": {},
   "source": [
    "Reverse the string using slicing."
   ]
  },
  {
   "cell_type": "code",
   "execution_count": 10,
   "id": "799473b5",
   "metadata": {},
   "outputs": [
    {
     "data": {
      "text/plain": [
       "'olleh'"
      ]
     },
     "execution_count": 10,
     "metadata": {},
     "output_type": "execute_result"
    }
   ],
   "source": [
    "i = \"hello\"\n",
    "\n",
    "i[::-1]"
   ]
  },
  {
   "cell_type": "markdown",
   "id": "99adab78",
   "metadata": {},
   "source": [
    "## Lists"
   ]
  },
  {
   "cell_type": "markdown",
   "id": "565c5293",
   "metadata": {},
   "source": [
    "Build the list [0, 0, 0] two separate ways."
   ]
  },
  {
   "cell_type": "code",
   "execution_count": 14,
   "id": "2d3d88fb",
   "metadata": {},
   "outputs": [
    {
     "data": {
      "text/plain": [
       "[0, 0, 0]"
      ]
     },
     "execution_count": 14,
     "metadata": {},
     "output_type": "execute_result"
    }
   ],
   "source": [
    "# Method 1\n",
    "\n",
    "my_list = [0] * 3\n",
    "my_list"
   ]
  },
  {
   "cell_type": "code",
   "execution_count": 15,
   "id": "a53e0e77",
   "metadata": {},
   "outputs": [
    {
     "data": {
      "text/plain": [
       "[0, 0, 0]"
      ]
     },
     "execution_count": 15,
     "metadata": {},
     "output_type": "execute_result"
    }
   ],
   "source": [
    "# Method 2\n",
    "\n",
    "my_second_list = [0, 0, 0]\n",
    "my_second_list"
   ]
  },
  {
   "cell_type": "markdown",
   "id": "f2194e22",
   "metadata": {},
   "source": [
    "Reassign 'hello' in this nested list to say 'goodbye' instead."
   ]
  },
  {
   "cell_type": "code",
   "execution_count": 16,
   "id": "ff1fa869",
   "metadata": {},
   "outputs": [],
   "source": [
    "list_example = [1, 2, [3, 4, \"hello\"]]"
   ]
  },
  {
   "cell_type": "code",
   "execution_count": 17,
   "id": "4d8200c2",
   "metadata": {},
   "outputs": [
    {
     "data": {
      "text/plain": [
       "[1, 2, [3, 4, 'goodbye']]"
      ]
     },
     "execution_count": 17,
     "metadata": {},
     "output_type": "execute_result"
    }
   ],
   "source": [
    "list_example[2][2] = \"goodbye\"\n",
    "list_example"
   ]
  },
  {
   "cell_type": "markdown",
   "id": "a7707f83",
   "metadata": {},
   "source": [
    "Sort the below list."
   ]
  },
  {
   "cell_type": "code",
   "execution_count": 18,
   "id": "f5d2554d",
   "metadata": {},
   "outputs": [],
   "source": [
    "list_sorted = [5, 3, 4, 6, 1]"
   ]
  },
  {
   "cell_type": "code",
   "execution_count": 20,
   "id": "2d116f2e",
   "metadata": {},
   "outputs": [
    {
     "data": {
      "text/plain": [
       "[1, 3, 4, 5, 6]"
      ]
     },
     "execution_count": 20,
     "metadata": {},
     "output_type": "execute_result"
    }
   ],
   "source": [
    "list_sorted.sort()\n",
    "list_sorted"
   ]
  },
  {
   "cell_type": "markdown",
   "id": "7e59ecc6",
   "metadata": {},
   "source": [
    "## Dictionaries"
   ]
  },
  {
   "cell_type": "markdown",
   "id": "1d9d6d9a",
   "metadata": {},
   "source": [
    "Using keys and indexing, grab the \"hello\" from the following dictionaries"
   ]
  },
  {
   "cell_type": "code",
   "execution_count": 23,
   "id": "0c0b3c96",
   "metadata": {},
   "outputs": [
    {
     "data": {
      "text/plain": [
       "'hello'"
      ]
     },
     "execution_count": 23,
     "metadata": {},
     "output_type": "execute_result"
    }
   ],
   "source": [
    "d = {\"simple_key\": \"hello\"}\n",
    "\n",
    "d[\"simple_key\"]"
   ]
  },
  {
   "cell_type": "code",
   "execution_count": 25,
   "id": "c73218c7",
   "metadata": {},
   "outputs": [],
   "source": [
    "d = {\"k1\":{\"k2\": \"hello\"}}"
   ]
  },
  {
   "cell_type": "code",
   "execution_count": 29,
   "id": "186cc290",
   "metadata": {},
   "outputs": [
    {
     "data": {
      "text/plain": [
       "'hello'"
      ]
     },
     "execution_count": 29,
     "metadata": {},
     "output_type": "execute_result"
    }
   ],
   "source": [
    "d[\"k1\"][\"k2\"]"
   ]
  },
  {
   "cell_type": "code",
   "execution_count": 26,
   "id": "7321f3dc",
   "metadata": {},
   "outputs": [],
   "source": [
    "d1 = {\"k1\":[{\"nest_key\":[\"this is deep\",[\"hello\"]]}]}"
   ]
  },
  {
   "cell_type": "code",
   "execution_count": 36,
   "id": "7f78b8fd",
   "metadata": {},
   "outputs": [
    {
     "data": {
      "text/plain": [
       "['hello']"
      ]
     },
     "execution_count": 36,
     "metadata": {},
     "output_type": "execute_result"
    }
   ],
   "source": [
    "d1[\"k1\"][0][\"nest_key\"][1]"
   ]
  },
  {
   "cell_type": "code",
   "execution_count": 28,
   "id": "abffb9a6",
   "metadata": {},
   "outputs": [],
   "source": [
    "d2 = {\"k1\":[1,2,{\"k2\":[\"this is tricky\",{\"tough\":[1,2,[\"hello\"]]}]}]}"
   ]
  },
  {
   "cell_type": "code",
   "execution_count": 38,
   "id": "76949a56",
   "metadata": {},
   "outputs": [
    {
     "data": {
      "text/plain": [
       "['hello']"
      ]
     },
     "execution_count": 38,
     "metadata": {},
     "output_type": "execute_result"
    }
   ],
   "source": [
    "d2[\"k1\"][2][\"k2\"][1][\"tough\"][2]"
   ]
  },
  {
   "cell_type": "markdown",
   "id": "fc38d23c",
   "metadata": {},
   "source": [
    "## Tuples vs. Lists"
   ]
  },
  {
   "cell_type": "markdown",
   "id": "a8799f1a",
   "metadata": {},
   "source": [
    "A list is a value that contains multiple values in an ordered sequence. A list value is a mutable data type."
   ]
  },
  {
   "cell_type": "markdown",
   "id": "f3b7887f",
   "metadata": {},
   "source": [
    "A tuple is a type of data structure that is not mutable. They can't be changed once they are created."
   ]
  },
  {
   "cell_type": "code",
   "execution_count": null,
   "id": "8a8b9742",
   "metadata": {},
   "outputs": [],
   "source": []
  }
 ],
 "metadata": {
  "kernelspec": {
   "display_name": "Python 3",
   "language": "python",
   "name": "python3"
  },
  "language_info": {
   "codemirror_mode": {
    "name": "ipython",
    "version": 3
   },
   "file_extension": ".py",
   "mimetype": "text/x-python",
   "name": "python",
   "nbconvert_exporter": "python",
   "pygments_lexer": "ipython3",
   "version": "3.8.8"
  }
 },
 "nbformat": 4,
 "nbformat_minor": 5
}
